{
 "cells": [
  {
   "cell_type": "markdown",
   "metadata": {},
   "source": [
    "### **Anirudh's Notebook**"
   ]
  },
  {
   "cell_type": "markdown",
   "metadata": {},
   "source": [
    "In Krit's notebook, we analyzed data based on the weighted average of the features. In this notebook, we're going to use clustering to group similat data, and visualize this"
   ]
  },
  {
   "cell_type": "code",
   "execution_count": null,
   "metadata": {},
   "outputs": [],
   "source": [
    "from sklearn.preprocessing import StandardScaler\n",
    "\n",
    "scaler = StandardScaler()\n",
    "\n",
    "# normalize scores\n",
    "data_for_clustering = neighborhood_scores_df[['Weighted Score']]\n",
    "normalized_data = scaler.fit_transform(data_for_clustering)\n",
    "normalized_data_df = pd.DataFrame(normalized_data, columns=['Normalized Score'], index=neighborhood_scores_df.index)\n",
    "\n",
    "from sklearn.cluster import KMeans\n",
    "\n",
    "# K-means clustering\n",
    "kmeans = KMeans(n_clusters=3, random_state=0) \n",
    "kmeans.fit(normalized_data_df)\n",
    "\n",
    "# create cluster labels\n",
    "neighborhood_scores_df['Cluster'] = kmeans.labels_\n",
    "\n",
    "import matplotlib.pyplot as plt\n",
    "\n",
    "# plotting the clusters\n",
    "plt.figure(figsize=(10, 6))\n",
    "for cluster in sorted(neighborhood_scores_df['Cluster'].unique()):\n",
    "    clustered_data = neighborhood_scores_df[neighborhood_scores_df['Cluster'] == cluster]\n",
    "    plt.scatter(clustered_data['Neighborhood'], clustered_data['Weighted Score'], label=f'Cluster {cluster}')\n",
    "plt.legend()\n",
    "plt.xlabel('Neighborhood')\n",
    "plt.ylabel('Weighted Score')\n",
    "plt.title('Neighborhood Clusters Based on Environmental Features')\n",
    "plt.xticks(rotation=45)\n",
    "plt.tight_layout()\n",
    "plt.show()\n"
   ]
  }
 ],
 "metadata": {
  "language_info": {
   "name": "python"
  }
 },
 "nbformat": 4,
 "nbformat_minor": 2
}
