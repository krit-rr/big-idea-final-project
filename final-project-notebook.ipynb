{
 "cells": [
  {
   "cell_type": "markdown",
   "metadata": {},
   "source": [
    "### **Introduction**\n",
    "To determine the \"best neighboorhood\", we're figuring out which neighborhood is the most \"green\". We used four different data sets, each of which corresponds to a factor that makes a city/neighborhood more environmentally friendly. "
   ]
  },
  {
   "cell_type": "markdown",
   "metadata": {},
   "source": [
    "### **The Metric**\n",
    "\n",
    "**Note:** Each of these factors is essentially a count of something green in a neighborhood. Although we could calculate it by a simple count of each, our group feels that certain factors are more important than others, due to being more rare and/or more impactful on the environment. Therefore, some of them are weighted more than others.\n",
    "\n",
    "##### **Dataset 1:** green-spaces-locations-pgh.csv \n",
    "- This is the list of each of the Green Spaces in Pittsburgh, as per the Operations Division of the Department of Public Works.\n",
    "- The more green spaces a neighborhood has, the more green it is. \n",
    "- This is weighted by a factor of 2x.\n",
    "\n",
    "##### **Dataset 2:** greenways-locations-pgh.csv\n",
    "- This is the list of the of Greenways in Pittsburgh, given by Greenways.\n",
    "- The more greenways a neighborhood has, the more green it is. \n",
    "- This is weighted by a factor of 3x.\n",
    "\n",
    "##### **Dataset 3:** recyling-centers-locations-pgh.csv\n",
    "- This is a list of locations where city residents are encouraged to drop off, dispose, or recycle of unwanted materials, given by Waste Recovery Locations.\n",
    "- The more recyling centers a neighborhood has, the more green it is.\n",
    "- This is weighted by a factor of 2x.\n",
    "\n",
    "##### **Dataset 4:** smart-trash-locations-pgh.csv\n",
    "- This is a list of locations of the City of Pittsburgh's Smart Trash Containers.\n",
    "- The more smart trash containers a neighborhood has, the more green it is. \n",
    "- This is weighted by a factor of 1x."
   ]
  },
  {
   "cell_type": "markdown",
   "metadata": {},
   "source": [
    "### **The Best Neighborhood**"
   ]
  },
  {
   "cell_type": "code",
   "execution_count": null,
   "metadata": {},
   "outputs": [],
   "source": [
    "import pandas as pd\n",
    "\n",
    "# Weight factors for each dataset\n",
    "weight_factors = {\n",
    "    'green_spaces': 2,\n",
    "    'greenways': 3,\n",
    "    'recycling_centers': 2,\n",
    "    'smart_trash_containers': 1\n",
    "}\n",
    "\n",
    "# Read and process each dataset\n",
    "datasets = {\n",
    "    'green_spaces': pd.read_csv('green-spaces-locations-pgh.csv'),\n",
    "    'greenways': pd.read_csv('greenways-locations-pgh.csv'),\n",
    "    'recycling_centers': pd.read_csv('recyling-centers-locations-pgh.csv'),\n",
    "    'smart_trash_containers': pd.read_csv('smart-trash-locations-pgh.csv')\n",
    "}\n",
    "\n",
    "# Calculate counts for each dataset\n",
    "counts = {}\n",
    "for dataset_name, dataset in datasets.items():\n",
    "    if dataset_name == 'green_spaces':\n",
    "        # Filter out rows where the Facility column is not empty\n",
    "        green_spaces = dataset[dataset['Facility'].notnull()]\n",
    "        # Count the number of green spaces in each neighborhood\n",
    "        counts[dataset_name] = green_spaces['Neighborhood'].value_counts()\n",
    "    elif dataset_name == 'greenways':\n",
    "        # Count the number of greenways in each neighborhood\n",
    "        counts[dataset_name] = dataset['nhood'].value_counts()\n",
    "    elif dataset_name == 'recycling_centers':\n",
    "        # Grouping by neighborhood and counting the number of entries for each neighborhood\n",
    "        counts[dataset_name] = dataset.groupby('neighborhood').size()\n",
    "    elif dataset_name == 'smart_trash_containers':\n",
    "        # Grouping by neighborhood and counting the number of smart trash locations for each neighborhood\n",
    "        counts[dataset_name] = dataset.groupby('neighborhood').size()\n",
    "\n",
    "# Calculate weighted scores for each neighborhood\n",
    "weighted_scores = {}\n",
    "for neighborhood, count in counts['green_spaces'].items():\n",
    "    weighted_score = 0\n",
    "    for dataset_name, dataset_count in counts.items():\n",
    "        weighted_score += count * weight_factors.get(dataset_name, 1) * dataset_count.get(neighborhood, 0)\n",
    "    weighted_scores[neighborhood] = weighted_score\n",
    "\n",
    "# Find the best neighborhood overall\n",
    "best_neighborhood = max(weighted_scores, key=weighted_scores.get)\n",
    "best_score = weighted_scores[best_neighborhood]\n",
    "\n",
    "# Display the best neighborhood overall and its score\n",
    "print(\"The best neighborhood overall based on the weighted factors is:\", best_neighborhood)\n",
    "print(\"Weighted score (overall):\", best_score)"
   ]
  },
  {
   "cell_type": "markdown",
   "metadata": {},
   "source": [
    "### **Conclusion**"
   ]
  },
  {
   "cell_type": "markdown",
   "metadata": {},
   "source": []
  }
 ],
 "metadata": {
  "kernelspec": {
   "display_name": "Python 3",
   "language": "python",
   "name": "python3"
  },
  "language_info": {
   "codemirror_mode": {
    "name": "ipython",
    "version": 3
   },
   "file_extension": ".py",
   "mimetype": "text/x-python",
   "name": "python",
   "nbconvert_exporter": "python",
   "pygments_lexer": "ipython3",
   "version": "3.11.2"
  }
 },
 "nbformat": 4,
 "nbformat_minor": 4
}
