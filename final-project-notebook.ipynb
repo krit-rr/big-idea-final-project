{
 "cells": [
  {
   "cell_type": "markdown",
   "metadata": {},
   "source": [
    "### **Introduction**\n",
    "Our project is to use CSVs and Python to determine the \"best neighboorhood\" with a metric of our choosing. We decided to determine the best neighborhood by determining which neighborhood is the most \"green\", since its good for the residents' happiness and futures. \n",
    "We used four different data sets, each of which corresponds to a factor that makes a city/neighborhood more environmentally friendly. Each of these factors is essentially a count of something green in a neighborhood. Although we could calculate it by a simple count of each, our group feels that certain factors are more important than others, due to being more rare and/or more impactful on the environment. Therefore, some of them are weighted more than others."
   ]
  },
  {
   "cell_type": "markdown",
   "metadata": {},
   "source": [
    "### **The Metric**\n",
    "\n",
    "##### **Dataset 1:** green-spaces-locations-pgh.csv \n",
    "- This is the list of each of the Green Spaces in Pittsburgh, as per the Operations Division of the Department of Public Works.\n",
    "- The more green spaces a neighborhood has, the more green it is. \n",
    "- This is weighted by a factor of 2x.\n",
    "\n",
    "##### **Dataset 2:** greenways-locations-pgh.csv\n",
    "- This is the list of the of Greenways in Pittsburgh, given by Greenways.\n",
    "- The more greenways a neighborhood has, the more green it is. \n",
    "- This is weighted by a factor of 3x.\n",
    "\n",
    "##### **Dataset 3:** recyling-centers-locations-pgh.csv\n",
    "- This is a list of locations where city residents are encouraged to drop off, dispose, or recycle of unwanted materials, given by Waste Recovery Locations.\n",
    "- The more recyling centers a neighborhood has, the more green it is.\n",
    "- This is weighted by a factor of 2x.\n",
    "\n",
    "##### **Dataset 4:** smart-trash-locations-pgh.csv\n",
    "- This is a list of locations of the City of Pittsburgh's Smart Trash Containers.\n",
    "- The more smart trash containers a neighborhood has, the more green it is. \n",
    "- This is weighted by a factor of 1x."
   ]
  },
  {
   "cell_type": "markdown",
   "metadata": {},
   "source": [
    "### **The Best Neighborhood**"
   ]
  },
  {
   "cell_type": "code",
   "execution_count": null,
   "metadata": {},
   "outputs": [],
   "source": [
    "import pandas as pd\n",
    "import matplotlib.pyplot as plt\n",
    "\n",
    "# Weight factors for each dataset\n",
    "weight_factors = {\n",
    "    'green_spaces': 2,\n",
    "    'greenways': 3,\n",
    "    'recycling_centers': 2,\n",
    "    'smart_trash_containers': 1\n",
    "}\n",
    "\n",
    "# Read and process each dataset\n",
    "datasets = {\n",
    "    'green_spaces': pd.read_csv('green-spaces-locations-pgh.csv'),\n",
    "    'greenways': pd.read_csv('greenways-locations-pgh.csv'),\n",
    "    'recycling_centers': pd.read_csv('recyling-centers-locations-pgh.csv'),\n",
    "    'smart_trash_containers': pd.read_csv('smart-trash-locations-pgh.csv')\n",
    "}\n",
    "\n",
    "# Calculate counts for each dataset\n",
    "counts = {}\n",
    "for dataset_name, dataset in datasets.items():\n",
    "    if dataset_name == 'green_spaces':\n",
    "        # Filter out rows where the Facility column is not empty\n",
    "        green_spaces = dataset[dataset['Facility'].notnull()]\n",
    "        # Count the number of green spaces in each neighborhood\n",
    "        counts[dataset_name] = green_spaces['Neighborhood'].value_counts()\n",
    "    elif dataset_name == 'greenways':\n",
    "        # Count the number of greenways in each neighborhood\n",
    "        counts[dataset_name] = dataset['nhood'].value_counts()\n",
    "    elif dataset_name == 'recycling_centers':\n",
    "        # Grouping by neighborhood and counting the number of entries for each neighborhood\n",
    "        counts[dataset_name] = dataset.groupby('neighborhood').size()\n",
    "    elif dataset_name == 'smart_trash_containers':\n",
    "        # Grouping by neighborhood and counting the number of smart trash locations for each neighborhood\n",
    "        counts[dataset_name] = dataset.groupby('neighborhood').size()\n",
    "\n",
    "# Calculate weighted scores for each neighborhood\n",
    "weighted_scores = {}\n",
    "for neighborhood, count in counts['green_spaces'].items():\n",
    "    weighted_score = 0\n",
    "    for dataset_name, dataset_count in counts.items():\n",
    "        weighted_score += count * weight_factors.get(dataset_name, 1) * dataset_count.get(neighborhood, 0)\n",
    "    weighted_scores[neighborhood] = weighted_score\n",
    "\n",
    "# Find the best neighborhood overall\n",
    "best_neighborhood = max(weighted_scores, key=weighted_scores.get)\n",
    "best_score = weighted_scores[best_neighborhood]\n",
    "\n",
    "# Data Visualization - Graph of all the neighborhoods\n",
    "# Convert weighted_scores dictionary to a DataFrame for easier plotting\n",
    "neighborhood_scores_df = pd.DataFrame(list(weighted_scores.items()), columns=['Neighborhood', 'Weighted Score'])\n",
    "# Sort neighborhoods by their weighted scores\n",
    "neighborhood_scores_df = neighborhood_scores_df.sort_values(by='Weighted Score', ascending=False)\n",
    "# Plotting\n",
    "plt.figure(figsize=(10, 6))\n",
    "plt.barh(neighborhood_scores_df['Neighborhood'], neighborhood_scores_df['Weighted Score'], color='skyblue')\n",
    "plt.xlabel('Weighted Score')\n",
    "plt.ylabel('Neighborhood')\n",
    "plt.title('Weighted Scores for Each Neighborhood')\n",
    "plt.grid(axis='x')\n",
    "plt.tight_layout()\n",
    "plt.show()\n",
    "\n",
    "# Display the best neighborhood overall and its score\n",
    "print(\"The best neighborhood overall based on the weighted factors is:\", best_neighborhood)\n",
    "print(\"Weighted score (overall):\", best_score)"
   ]
  },
  {
   "cell_type": "markdown",
   "metadata": {},
   "source": [
    "Next, we're using k-means clustering to visualize the difference between neighborhoods. We will use the sum of the weighted factors to determine the differnece in the best neighborhood, and see which neighborhoods were similar to each other."
   ]
  },
  {
   "cell_type": "code",
   "execution_count": null,
   "metadata": {},
   "outputs": [],
   "source": [
    "from sklearn.preprocessing import StandardScaler\n",
    "\n",
    "scaler = StandardScaler()\n",
    "\n",
    "# normalize scores\n",
    "data_for_clustering = neighborhood_scores_df[['Weighted Score']]\n",
    "normalized_data = scaler.fit_transform(data_for_clustering)\n",
    "normalized_data_df = pd.DataFrame(normalized_data, columns=['Normalized Score'], index=neighborhood_scores_df.index)\n",
    "\n",
    "from sklearn.cluster import KMeans\n",
    "\n",
    "# K-means clustering\n",
    "kmeans = KMeans(n_clusters=3, random_state=0) \n",
    "kmeans.fit(normalized_data_df)\n",
    "\n",
    "# create cluster labels\n",
    "neighborhood_scores_df['Cluster'] = kmeans.labels_\n",
    "\n",
    "import matplotlib.pyplot as plt\n",
    "\n",
    "# plotting the clusters\n",
    "plt.figure(figsize=(10, 6))\n",
    "for cluster in sorted(neighborhood_scores_df['Cluster'].unique()):\n",
    "    clustered_data = neighborhood_scores_df[neighborhood_scores_df['Cluster'] == cluster]\n",
    "    plt.scatter(clustered_data['Neighborhood'], clustered_data['Weighted Score'], label=f'Cluster {cluster}')\n",
    "plt.legend()\n",
    "plt.xlabel('Neighborhood')\n",
    "plt.ylabel('Weighted Score')\n",
    "plt.title('Neighborhood Clusters Based on Environmental Features')\n",
    "plt.xticks(rotation=45)\n",
    "plt.tight_layout()\n",
    "plt.show()\n"
   ]
  },
  {
   "cell_type": "markdown",
   "metadata": {},
   "source": [
    "### **Conclusion**"
   ]
  },
  {
   "cell_type": "markdown",
   "metadata": {},
   "source": [
    "**Krit:** I was honestly shocked that East Liberty turned out to be the best neighborhood. It is my personal favorite neighborhood, not because of how green it is, but because of the food/shopping options, the walkability, and the buildings. It makes sense that East Liberty is a green neighborhood and I guess subconciously it boosts my mental image of it, but that's not why it was my favorite neighborhood."
   ]
  },
  {
   "cell_type": "markdown",
   "metadata": {},
   "source": [
    "**Anirudh:**: I was pretty surprised that East Liberty would be the greenest neighborhood. After looking at the clustering, it was cool to see just how much more 'green' East Liberty was compared to the other neighborhoods. I usually go to East Liberty for Target, Whole Foods, and Trader Joes, and not much else, but in hindsight, it makes sense that East Liberty is the greenest, especially because of how walkable it is. I think it's interesting to see how the data can show us things that we might not have known before."
   ]
  },
  {
   "cell_type": "markdown",
   "metadata": {},
   "source": [
    "**Chase:**"
   ]
  }
 ],
 "metadata": {
  "kernelspec": {
   "display_name": "Python 3",
   "language": "python",
   "name": "python3"
  },
  "language_info": {
   "codemirror_mode": {
    "name": "ipython",
    "version": 3
   },
   "file_extension": ".py",
   "mimetype": "text/x-python",
   "name": "python",
   "nbconvert_exporter": "python",
   "pygments_lexer": "ipython3",
   "version": "3.9.6"
  }
 },
 "nbformat": 4,
 "nbformat_minor": 4
}
