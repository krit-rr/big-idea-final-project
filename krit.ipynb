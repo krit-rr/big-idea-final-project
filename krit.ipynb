{
 "cells": [
  {
   "cell_type": "markdown",
   "metadata": {},
   "source": [
    "### **Krit's Notebook**"
   ]
  },
  {
   "cell_type": "markdown",
   "metadata": {},
   "source": [
    "### **The Best Neighborhood**"
   ]
  },
  {
   "cell_type": "code",
   "execution_count": null,
   "metadata": {},
   "outputs": [],
   "source": [
    "import pandas as pd\n",
    "import matplotlib.pyplot as plt\n",
    "\n",
    "# Weight factors for each dataset\n",
    "weight_factors = {\n",
    "    'green_spaces': 2,\n",
    "    'greenways': 3,\n",
    "    'recycling_centers': 2,\n",
    "    'smart_trash_containers': 1\n",
    "}\n",
    "\n",
    "# Read and process each dataset\n",
    "datasets = {\n",
    "    'green_spaces': pd.read_csv('green-spaces-locations-pgh.csv'),\n",
    "    'greenways': pd.read_csv('greenways-locations-pgh.csv'),\n",
    "    'recycling_centers': pd.read_csv('recyling-centers-locations-pgh.csv'),\n",
    "    'smart_trash_containers': pd.read_csv('smart-trash-locations-pgh.csv')\n",
    "}\n",
    "\n",
    "# Calculate counts for each dataset\n",
    "counts = {}\n",
    "for dataset_name, dataset in datasets.items():\n",
    "    if dataset_name == 'green_spaces':\n",
    "        # Filter out rows where the Facility column is not empty\n",
    "        green_spaces = dataset[dataset['Facility'].notnull()]\n",
    "        # Count the number of green spaces in each neighborhood\n",
    "        counts[dataset_name] = green_spaces['Neighborhood'].value_counts()\n",
    "    elif dataset_name == 'greenways':\n",
    "        # Count the number of greenways in each neighborhood\n",
    "        counts[dataset_name] = dataset['nhood'].value_counts()\n",
    "    elif dataset_name == 'recycling_centers':\n",
    "        # Grouping by neighborhood and counting the number of entries for each neighborhood\n",
    "        counts[dataset_name] = dataset.groupby('neighborhood').size()\n",
    "    elif dataset_name == 'smart_trash_containers':\n",
    "        # Grouping by neighborhood and counting the number of smart trash locations for each neighborhood\n",
    "        counts[dataset_name] = dataset.groupby('neighborhood').size()\n",
    "\n",
    "# Calculate weighted scores for each neighborhood\n",
    "weighted_scores = {}\n",
    "for neighborhood, count in counts['green_spaces'].items():\n",
    "    weighted_score = 0\n",
    "    for dataset_name, dataset_count in counts.items():\n",
    "        weighted_score += count * weight_factors.get(dataset_name, 1) * dataset_count.get(neighborhood, 0)\n",
    "    weighted_scores[neighborhood] = weighted_score\n",
    "\n",
    "# Find the best neighborhood overall\n",
    "best_neighborhood = max(weighted_scores, key=weighted_scores.get)\n",
    "best_score = weighted_scores[best_neighborhood]\n",
    "\n",
    "# Data Visualization - Graph of all the neighborhoods\n",
    "# Convert weighted_scores dictionary to a DataFrame for easier plotting\n",
    "neighborhood_scores_df = pd.DataFrame(list(weighted_scores.items()), columns=['Neighborhood', 'Weighted Score'])\n",
    "# Sort neighborhoods by their weighted scores\n",
    "neighborhood_scores_df = neighborhood_scores_df.sort_values(by='Weighted Score', ascending=False)\n",
    "# Plotting\n",
    "plt.figure(figsize=(10, 6))\n",
    "plt.barh(neighborhood_scores_df['Neighborhood'], neighborhood_scores_df['Weighted Score'], color='skyblue')\n",
    "plt.xlabel('Weighted Score')\n",
    "plt.ylabel('Neighborhood')\n",
    "plt.title('Weighted Scores for Each Neighborhood')\n",
    "plt.grid(axis='x')\n",
    "plt.tight_layout()\n",
    "plt.show()\n",
    "\n",
    "# Display the best neighborhood overall and its score\n",
    "print(\"The best neighborhood overall based on the weighted factors is:\", best_neighborhood)\n",
    "print(\"Weighted score (overall):\", best_score)"
   ]
  }
 ],
 "metadata": {
  "language_info": {
   "name": "python"
  }
 },
 "nbformat": 4,
 "nbformat_minor": 2
}
